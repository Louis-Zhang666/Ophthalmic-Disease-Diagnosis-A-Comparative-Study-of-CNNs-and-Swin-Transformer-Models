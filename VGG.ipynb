{
 "cells": [
  {
   "cell_type": "code",
   "execution_count": 22,
   "id": "7c62bb4c-cef3-4fdb-b912-b0ba1e44d4ba",
   "metadata": {},
   "outputs": [],
   "source": [
    "import numpy as np # linear algebra\n",
    "import pandas as pd # data processing, CSV file I/O (e.g. pd.read_csv)\n",
    "import cv2\n",
    "import random\n",
    "from tqdm import tqdm\n",
    "import matplotlib.pyplot as plt\n",
    "from tensorflow.keras.preprocessing.image import ImageDataGenerator"
   ]
  },
  {
   "cell_type": "code",
   "execution_count": 23,
   "id": "6bcca4b6-fd76-4133-986d-e2eac566a628",
   "metadata": {},
   "outputs": [],
   "source": [
    "dfs = pd.read_csv(\"full_df.csv\")\n",
    "#去掉年龄太大或者太小的\n",
    "dfs = dfs[dfs['Patient Age'].map(lambda x:10<=x<=80)]"
   ]
  },
  {
   "cell_type": "code",
   "execution_count": 24,
   "id": "0ff17f86-9077-4de7-928e-aee0ee1d7bb2",
   "metadata": {},
   "outputs": [],
   "source": [
    "def has_glaucoma(text):\n",
    "    if \"glaucoma\" in text:\n",
    "        return 1\n",
    "    else:\n",
    "        return 0\n",
    "dfs[\"left_glaucoma\"] = dfs[\"Left-Diagnostic Keywords\"].apply(lambda x: has_glaucoma(x))\n",
    "dfs[\"right_glaucoma\"] = dfs[\"Right-Diagnostic Keywords\"].apply(lambda x: has_glaucoma(x))\n",
    "left_glaucoma = dfs.loc[(dfs.G ==1) & (dfs.left_glaucoma == 1)][\"Left-Fundus\"].values\n",
    "right_glaucoma = dfs.loc[(dfs.G ==1) & (dfs.right_glaucoma == 1)][\"Right-Fundus\"].values\n",
    "def has_retinopathy(text):\n",
    "    if \"retinopathy\" in text:\n",
    "        return 1\n",
    "    else:\n",
    "        return 0\n",
    "dfs[\"left_retinopathy\"] = dfs[\"Left-Diagnostic Keywords\"].apply(lambda x: has_retinopathy(x))\n",
    "dfs[\"right_retinopathy\"] = dfs[\"Right-Diagnostic Keywords\"].apply(lambda x: has_retinopathy(x))\n",
    "left_retinopathy = dfs.loc[(dfs.D ==1) & (dfs.left_retinopathy == 1)][\"Left-Fundus\"].sample(300,random_state=42).values\n",
    "right_retinopathy = dfs.loc[(dfs.D ==1) & (dfs.right_retinopathy == 1)][\"Right-Fundus\"].sample(300,random_state=42).values\n",
    "def has_cataract(text):\n",
    "    if \"cataract\" in text:\n",
    "        return 1\n",
    "    else:\n",
    "        return 0\n",
    "dfs[\"left_cataract\"] = dfs[\"Left-Diagnostic Keywords\"].apply(lambda x: has_cataract(x))\n",
    "dfs[\"right_cataract\"] = dfs[\"Right-Diagnostic Keywords\"].apply(lambda x: has_cataract(x))\n",
    "left_cataract = dfs.loc[(dfs.C ==1) & (dfs.left_cataract == 1)][\"Left-Fundus\"].values\n",
    "right_cataract = dfs.loc[(dfs.C ==1) & (dfs.right_cataract == 1)][\"Right-Fundus\"].values   \n",
    "\n",
    "glaucoma = np.concatenate((left_glaucoma,right_glaucoma),axis=-1)\n",
    "retinopathy = np.concatenate((left_retinopathy,right_retinopathy),axis=-1)\n",
    "cataract = np.concatenate((left_cataract,right_cataract),axis=-1)"
   ]
  },
  {
   "cell_type": "code",
   "execution_count": 25,
   "id": "216586aa-9333-4783-bc96-ad9a643202c0",
   "metadata": {},
   "outputs": [],
   "source": [
    "# 创建标签数组\n",
    "labels = np.concatenate((np.zeros(len(glaucoma)), np.ones(len(retinopathy)), np.full(len(cataract), 2)))\n",
    "labels = labels.astype(int)\n",
    "# 创建数据数组\n",
    "data = np.concatenate((glaucoma, retinopathy, cataract))\n",
    "\n",
    "# 创建DataFrame\n",
    "df = pd.DataFrame({'Data': data, 'Label': labels})"
   ]
  },
  {
   "cell_type": "code",
   "execution_count": 26,
   "id": "b26756d2-c5eb-4bc3-be45-46191ffcdb8b",
   "metadata": {},
   "outputs": [],
   "source": [
    "res = df.sample(n = len(df))\n",
    "train = res.iloc[:int(len(res)*0.7)]\n",
    "val = res.iloc[int(len(res)*0.7):int(len(res)*0.9)]\n",
    "test = res.iloc[int(len(res)*0.9):]"
   ]
  },
  {
   "cell_type": "code",
   "execution_count": 27,
   "id": "4bb0a210-d137-4e4b-9afb-0f9ce7dcc231",
   "metadata": {},
   "outputs": [
    {
     "name": "stdout",
     "output_type": "stream",
     "text": [
      "1    435\n",
      "0    415\n",
      "2    349\n",
      "Name: Label, dtype: int64\n"
     ]
    }
   ],
   "source": [
    "value_counts1 = train[\"Label\"].value_counts()\n",
    "print(value_counts1)"
   ]
  },
  {
   "cell_type": "code",
   "execution_count": 28,
   "id": "2c814ecc-7b13-4fa6-a91f-d38c0b519b60",
   "metadata": {},
   "outputs": [
    {
     "name": "stdout",
     "output_type": "stream",
     "text": [
      "0    119\n",
      "1    114\n",
      "2    109\n",
      "Name: Label, dtype: int64\n"
     ]
    }
   ],
   "source": [
    "value_counts2 = val[\"Label\"].value_counts()\n",
    "print(value_counts2)"
   ]
  },
  {
   "cell_type": "code",
   "execution_count": 29,
   "id": "3c05e6ea-6271-4a50-b619-83908bf14602",
   "metadata": {},
   "outputs": [
    {
     "name": "stdout",
     "output_type": "stream",
     "text": [
      "2    64\n",
      "0    57\n",
      "1    51\n",
      "Name: Label, dtype: int64\n"
     ]
    }
   ],
   "source": [
    "value_counts3 = test[\"Label\"].value_counts()\n",
    "print(value_counts3)"
   ]
  },
  {
   "cell_type": "code",
   "execution_count": 30,
   "id": "fc40bab0-5556-4478-81ef-16c56922c054",
   "metadata": {},
   "outputs": [],
   "source": [
    "from tensorflow.keras.preprocessing.image import load_img, img_to_array\n",
    "import os\n",
    "import pandas as pd\n",
    "import numpy as np\n",
    "from tqdm import tqdm\n",
    "\n",
    "dataset_dir = \"preprocessed_images/\"\n",
    "image_size = 224\n",
    "\n",
    "def create_dataset(df):\n",
    "    dataset = []\n",
    "    for index, row in tqdm(df.iterrows(), total=df.shape[0]):\n",
    "        image_path = os.path.join(dataset_dir, row[0])\n",
    "        try:\n",
    "            image = load_img(image_path, target_size=(image_size, image_size))\n",
    "            image_array = img_to_array(image)\n",
    "            label = np.array(row[1])\n",
    "            dataset.append([image_array, label])\n",
    "        except:\n",
    "            continue\n",
    "    \n",
    "    np.random.shuffle(dataset)\n",
    "    return dataset\n"
   ]
  },
  {
   "cell_type": "code",
   "execution_count": 31,
   "id": "a8edbb69-89be-46c9-a08d-bdc2371b4e20",
   "metadata": {},
   "outputs": [
    {
     "name": "stderr",
     "output_type": "stream",
     "text": [
      "100%|██████████| 1199/1199 [00:05<00:00, 204.68it/s]\n"
     ]
    }
   ],
   "source": [
    "train_data = create_dataset(train)"
   ]
  },
  {
   "cell_type": "code",
   "execution_count": 32,
   "id": "ddf1e5eb-e55e-4f51-9a7c-5944eab2c26d",
   "metadata": {},
   "outputs": [
    {
     "name": "stderr",
     "output_type": "stream",
     "text": [
      "100%|██████████| 172/172 [00:00<00:00, 246.60it/s]\n"
     ]
    }
   ],
   "source": [
    "test_data = create_dataset(test)"
   ]
  },
  {
   "cell_type": "code",
   "execution_count": 33,
   "id": "49540546-1b73-431e-a9d0-e0044200e138",
   "metadata": {},
   "outputs": [
    {
     "name": "stderr",
     "output_type": "stream",
     "text": [
      "100%|██████████| 342/342 [00:01<00:00, 255.59it/s]\n"
     ]
    }
   ],
   "source": [
    "val_data = create_dataset(val)"
   ]
  },
  {
   "cell_type": "code",
   "execution_count": 34,
   "id": "23382dd5-4a70-4f83-b611-d8303b68feec",
   "metadata": {},
   "outputs": [],
   "source": [
    "x_train = np.array([i[0] for i in train_data]).reshape(-1,image_size,image_size,3)\n",
    "y_train = np.array([i[1] for i in train_data])"
   ]
  },
  {
   "cell_type": "code",
   "execution_count": 35,
   "id": "80456357-5b86-4669-9487-0bd00077dbb4",
   "metadata": {},
   "outputs": [],
   "source": [
    "x_test = np.array([i[0] for i in test_data]).reshape(-1,image_size,image_size,3)\n",
    "y_test = np.array([i[1] for i in test_data])"
   ]
  },
  {
   "cell_type": "code",
   "execution_count": 36,
   "id": "246930fe-bdcb-41cc-ba0e-049e3fea00c8",
   "metadata": {},
   "outputs": [],
   "source": [
    "x_val = np.array([i[0] for i in val_data]).reshape(-1,image_size,image_size,3)\n",
    "y_val = np.array([i[1] for i in val_data])"
   ]
  },
  {
   "cell_type": "code",
   "execution_count": 37,
   "id": "5a04bc88-ce58-4c18-8a2b-cee225be54dd",
   "metadata": {},
   "outputs": [],
   "source": [
    "from sklearn.model_selection import train_test_split\n",
    "from tensorflow.keras.utils import to_categorical\n",
    "\n",
    "# 对标签数据进行独热编码\n",
    "y_train_encoded = to_categorical(y_train, num_classes=3)\n",
    "y_test_encoded = to_categorical(y_test, num_classes=3)\n",
    "y_val_encoded = to_categorical(y_val, num_classes=3)"
   ]
  },
  {
   "cell_type": "code",
   "execution_count": 38,
   "id": "a61662b3-fd50-4f14-a85f-123390e873a5",
   "metadata": {},
   "outputs": [],
   "source": [
    "from tensorflow.keras.preprocessing.image import ImageDataGenerator\n",
    "from tensorflow.keras.preprocessing.image import load_img, img_to_array\n",
    "from tensorflow.keras.applications.vgg16 import preprocess_input\n",
    "from tensorflow.keras.utils import to_categorical\n",
    "from sklearn.model_selection import train_test_split\n",
    "\n",
    "datagen = ImageDataGenerator(\n",
    "    rotation_range=20,\n",
    "    width_shift_range=0.2,\n",
    "    height_shift_range=0.2,\n",
    "    shear_range=0.2,\n",
    "    zoom_range=0.2,\n",
    "    horizontal_flip=True,\n",
    "    preprocessing_function=preprocess_input\n",
    ")"
   ]
  },
  {
   "cell_type": "code",
   "execution_count": 39,
   "id": "a404bffc-29a7-4865-88d3-def3234d6e15",
   "metadata": {},
   "outputs": [],
   "source": [
    "train_generator = datagen.flow(x_train, y_train_encoded, batch_size=32)"
   ]
  },
  {
   "cell_type": "code",
   "execution_count": 40,
   "id": "001a2a47-37ef-4d0a-b608-64c015213687",
   "metadata": {},
   "outputs": [],
   "source": [
    "x_test = preprocess_input(x_test)"
   ]
  },
  {
   "cell_type": "code",
   "execution_count": 41,
   "id": "5d789ba5-3764-4578-bd36-0cc9c4aba6ee",
   "metadata": {},
   "outputs": [
    {
     "name": "stdout",
     "output_type": "stream",
     "text": [
      "训练集大小: 1188\n",
      "测试集大小: 172\n"
     ]
    }
   ],
   "source": [
    "print(\"训练集大小:\", x_train.shape[0])\n",
    "print(\"测试集大小:\", x_test.shape[0])"
   ]
  },
  {
   "cell_type": "code",
   "execution_count": 42,
   "id": "4b546457-31dd-4581-a535-69176bf23949",
   "metadata": {},
   "outputs": [
    {
     "name": "stderr",
     "output_type": "stream",
     "text": [
      "2023-09-23 04:47:03.835179: I tensorflow/stream_executor/platform/default/dso_loader.cc:48] Successfully opened dynamic library libcuda.so.1\n",
      "2023-09-23 04:47:03.878356: I tensorflow/core/common_runtime/gpu/gpu_device.cc:1716] Found device 0 with properties: \n",
      "pciBusID: 0000:52:00.0 name: NVIDIA RTX A4000 computeCapability: 8.6\n",
      "coreClock: 1.56GHz coreCount: 48 deviceMemorySize: 15.74GiB deviceMemoryBandwidth: 417.29GiB/s\n",
      "2023-09-23 04:47:03.878534: W tensorflow/stream_executor/platform/default/dso_loader.cc:59] Could not load dynamic library 'libcudart.so.10.1'; dlerror: libcudart.so.10.1: cannot open shared object file: No such file or directory; LD_LIBRARY_PATH: /root/miniconda3/lib/python3.8/site-packages/cv2/../../lib64:/usr/local/nvidia/lib:/usr/local/nvidia/lib64\n",
      "2023-09-23 04:47:03.878766: W tensorflow/stream_executor/platform/default/dso_loader.cc:59] Could not load dynamic library 'libcublas.so.10'; dlerror: libcublas.so.10: cannot open shared object file: No such file or directory; LD_LIBRARY_PATH: /root/miniconda3/lib/python3.8/site-packages/cv2/../../lib64:/usr/local/nvidia/lib:/usr/local/nvidia/lib64\n",
      "2023-09-23 04:47:03.891570: I tensorflow/stream_executor/platform/default/dso_loader.cc:48] Successfully opened dynamic library libcufft.so.10\n",
      "2023-09-23 04:47:03.895251: I tensorflow/stream_executor/platform/default/dso_loader.cc:48] Successfully opened dynamic library libcurand.so.10\n",
      "2023-09-23 04:47:03.895481: W tensorflow/stream_executor/platform/default/dso_loader.cc:59] Could not load dynamic library 'libcusolver.so.10'; dlerror: libcusolver.so.10: cannot open shared object file: No such file or directory; LD_LIBRARY_PATH: /root/miniconda3/lib/python3.8/site-packages/cv2/../../lib64:/usr/local/nvidia/lib:/usr/local/nvidia/lib64\n",
      "2023-09-23 04:47:03.895598: W tensorflow/stream_executor/platform/default/dso_loader.cc:59] Could not load dynamic library 'libcusparse.so.10'; dlerror: libcusparse.so.10: cannot open shared object file: No such file or directory; LD_LIBRARY_PATH: /root/miniconda3/lib/python3.8/site-packages/cv2/../../lib64:/usr/local/nvidia/lib:/usr/local/nvidia/lib64\n",
      "2023-09-23 04:47:03.895704: W tensorflow/stream_executor/platform/default/dso_loader.cc:59] Could not load dynamic library 'libcudnn.so.7'; dlerror: libcudnn.so.7: cannot open shared object file: No such file or directory; LD_LIBRARY_PATH: /root/miniconda3/lib/python3.8/site-packages/cv2/../../lib64:/usr/local/nvidia/lib:/usr/local/nvidia/lib64\n",
      "2023-09-23 04:47:03.895711: W tensorflow/core/common_runtime/gpu/gpu_device.cc:1753] Cannot dlopen some GPU libraries. Please make sure the missing libraries mentioned above are installed properly if you would like to use GPU. Follow the guide at https://www.tensorflow.org/install/gpu for how to download and setup the required libraries for your platform.\n",
      "Skipping registering GPU devices...\n",
      "2023-09-23 04:47:03.896726: I tensorflow/core/platform/cpu_feature_guard.cc:142] This TensorFlow binary is optimized with oneAPI Deep Neural Network Library (oneDNN)to use the following CPU instructions in performance-critical operations:  AVX2 AVX512F FMA\n",
      "To enable them in other operations, rebuild TensorFlow with the appropriate compiler flags.\n",
      "2023-09-23 04:47:03.952614: I tensorflow/core/platform/profile_utils/cpu_utils.cc:104] CPU Frequency: 2200000000 Hz\n",
      "2023-09-23 04:47:03.968434: I tensorflow/compiler/xla/service/service.cc:168] XLA service 0x564f9b6d5f10 initialized for platform Host (this does not guarantee that XLA will be used). Devices:\n",
      "2023-09-23 04:47:03.968456: I tensorflow/compiler/xla/service/service.cc:176]   StreamExecutor device (0): Host, Default Version\n",
      "2023-09-23 04:47:03.973157: I tensorflow/core/common_runtime/gpu/gpu_device.cc:1257] Device interconnect StreamExecutor with strength 1 edge matrix:\n",
      "2023-09-23 04:47:03.973180: I tensorflow/core/common_runtime/gpu/gpu_device.cc:1263]      \n"
     ]
    }
   ],
   "source": [
    "from tensorflow.keras.applications.vgg19 import VGG19\n",
    "vgg = VGG19(weights=\"imagenet\", include_top=False, input_shape=(image_size, image_size, 3))"
   ]
  },
  {
   "cell_type": "code",
   "execution_count": 43,
   "id": "3ee6b222-561a-414c-a653-c60eeb01e52f",
   "metadata": {},
   "outputs": [],
   "source": [
    "for layer in vgg.layers:\n",
    "    layer.trainable = False"
   ]
  },
  {
   "cell_type": "code",
   "execution_count": 44,
   "id": "91f8e4ab-41bd-479e-af97-fe23dfeb3d93",
   "metadata": {},
   "outputs": [],
   "source": [
    "from tensorflow.keras import Sequential\n",
    "from tensorflow.keras.layers import Flatten,Dense\n",
    "model = Sequential()\n",
    "model.add(vgg)\n",
    "model.add(Flatten())\n",
    "model.add(Dense(256, activation=\"relu\"))\n",
    "model.add(Dense(3, activation=\"softmax\")) "
   ]
  },
  {
   "cell_type": "code",
   "execution_count": 45,
   "id": "6c103fed-fb37-466c-8126-e2073ba6bd84",
   "metadata": {},
   "outputs": [
    {
     "name": "stdout",
     "output_type": "stream",
     "text": [
      "Model: \"sequential\"\n",
      "_________________________________________________________________\n",
      "Layer (type)                 Output Shape              Param #   \n",
      "=================================================================\n",
      "vgg19 (Functional)           (None, 7, 7, 512)         20024384  \n",
      "_________________________________________________________________\n",
      "flatten (Flatten)            (None, 25088)             0         \n",
      "_________________________________________________________________\n",
      "dense (Dense)                (None, 256)               6422784   \n",
      "_________________________________________________________________\n",
      "dense_1 (Dense)              (None, 3)                 771       \n",
      "=================================================================\n",
      "Total params: 26,447,939\n",
      "Trainable params: 6,423,555\n",
      "Non-trainable params: 20,024,384\n",
      "_________________________________________________________________\n"
     ]
    }
   ],
   "source": [
    "model.summary()"
   ]
  },
  {
   "cell_type": "code",
   "execution_count": 46,
   "id": "c790eb43-21b1-4389-b72a-ced14a3e4770",
   "metadata": {},
   "outputs": [],
   "source": [
    "from tensorflow.keras.optimizers import Adam\n",
    "model.compile(optimizer=Adam(), loss=\"categorical_crossentropy\", metrics=[\"accuracy\"])"
   ]
  },
  {
   "cell_type": "code",
   "execution_count": 47,
   "id": "d1cbf778-7493-48a5-b1f7-259b28f8ced6",
   "metadata": {},
   "outputs": [
    {
     "name": "stdout",
     "output_type": "stream",
     "text": [
      "WARNING:tensorflow:`period` argument is deprecated. Please use `save_freq` to specify the frequency in number of batches seen.\n"
     ]
    }
   ],
   "source": [
    "from tensorflow.keras.callbacks import ModelCheckpoint, EarlyStopping\n",
    "\n",
    "checkpoint = ModelCheckpoint(\"vgg19.h5\", monitor=\"val_acc\", verbose=1, save_best_only=True,\n",
    "                             save_weights_only=False, period=1)\n",
    "earlystop = EarlyStopping(monitor=\"val_acc\", patience=5, verbose=1)"
   ]
  },
  {
   "cell_type": "code",
   "execution_count": 48,
   "id": "a57f7e18-0548-43da-bf60-ebe64188bc41",
   "metadata": {},
   "outputs": [
    {
     "name": "stdout",
     "output_type": "stream",
     "text": [
      "WARNING:tensorflow:From /tmp/ipykernel_804/2406959210.py:3: Model.fit_generator (from tensorflow.python.keras.engine.training) is deprecated and will be removed in a future version.\n",
      "Instructions for updating:\n",
      "Please use Model.fit, which supports generators.\n",
      "Epoch 1/16\n",
      "37/37 [==============================] - ETA: 0s - loss: 11.5042 - accuracy: 0.6194WARNING:tensorflow:Can save best model only with val_acc available, skipping.\n",
      "WARNING:tensorflow:Early stopping conditioned on metric `val_acc` which is not available. Available metrics are: loss,accuracy,val_loss,val_accuracy\n",
      "37/37 [==============================] - 216s 6s/step - loss: 11.5042 - accuracy: 0.6194 - val_loss: 4.0039 - val_accuracy: 0.5533\n",
      "Epoch 2/16\n",
      "37/37 [==============================] - ETA: 0s - loss: 1.7781 - accuracy: 0.7578WARNING:tensorflow:Can save best model only with val_acc available, skipping.\n",
      "WARNING:tensorflow:Early stopping conditioned on metric `val_acc` which is not available. Available metrics are: loss,accuracy,val_loss,val_accuracy\n",
      "37/37 [==============================] - 214s 6s/step - loss: 1.7781 - accuracy: 0.7578 - val_loss: 2.0478 - val_accuracy: 0.6775\n",
      "Epoch 3/16\n",
      "37/37 [==============================] - ETA: 0s - loss: 1.1261 - accuracy: 0.7647WARNING:tensorflow:Can save best model only with val_acc available, skipping.\n",
      "WARNING:tensorflow:Early stopping conditioned on metric `val_acc` which is not available. Available metrics are: loss,accuracy,val_loss,val_accuracy\n",
      "37/37 [==============================] - 212s 6s/step - loss: 1.1261 - accuracy: 0.7647 - val_loss: 0.7274 - val_accuracy: 0.7574\n",
      "Epoch 4/16\n",
      "37/37 [==============================] - ETA: 0s - loss: 0.8360 - accuracy: 0.7829WARNING:tensorflow:Can save best model only with val_acc available, skipping.\n",
      "WARNING:tensorflow:Early stopping conditioned on metric `val_acc` which is not available. Available metrics are: loss,accuracy,val_loss,val_accuracy\n",
      "37/37 [==============================] - 213s 6s/step - loss: 0.8360 - accuracy: 0.7829 - val_loss: 0.7301 - val_accuracy: 0.7485\n",
      "Epoch 5/16\n",
      "37/37 [==============================] - ETA: 0s - loss: 0.6789 - accuracy: 0.7967WARNING:tensorflow:Can save best model only with val_acc available, skipping.\n",
      "WARNING:tensorflow:Early stopping conditioned on metric `val_acc` which is not available. Available metrics are: loss,accuracy,val_loss,val_accuracy\n",
      "37/37 [==============================] - 213s 6s/step - loss: 0.6789 - accuracy: 0.7967 - val_loss: 0.7220 - val_accuracy: 0.7456\n",
      "Epoch 6/16\n",
      "37/37 [==============================] - ETA: 0s - loss: 0.7225 - accuracy: 0.7958WARNING:tensorflow:Can save best model only with val_acc available, skipping.\n",
      "WARNING:tensorflow:Early stopping conditioned on metric `val_acc` which is not available. Available metrics are: loss,accuracy,val_loss,val_accuracy\n",
      "37/37 [==============================] - 212s 6s/step - loss: 0.7225 - accuracy: 0.7958 - val_loss: 0.8963 - val_accuracy: 0.7870\n",
      "Epoch 7/16\n",
      "37/37 [==============================] - ETA: 0s - loss: 0.5854 - accuracy: 0.8313WARNING:tensorflow:Can save best model only with val_acc available, skipping.\n",
      "WARNING:tensorflow:Early stopping conditioned on metric `val_acc` which is not available. Available metrics are: loss,accuracy,val_loss,val_accuracy\n",
      "37/37 [==============================] - 214s 6s/step - loss: 0.5854 - accuracy: 0.8313 - val_loss: 0.9055 - val_accuracy: 0.7308\n",
      "Epoch 8/16\n",
      "37/37 [==============================] - ETA: 0s - loss: 0.5982 - accuracy: 0.8261WARNING:tensorflow:Can save best model only with val_acc available, skipping.\n",
      "WARNING:tensorflow:Early stopping conditioned on metric `val_acc` which is not available. Available metrics are: loss,accuracy,val_loss,val_accuracy\n",
      "37/37 [==============================] - 213s 6s/step - loss: 0.5982 - accuracy: 0.8261 - val_loss: 1.4645 - val_accuracy: 0.6686\n",
      "Epoch 9/16\n",
      "37/37 [==============================] - ETA: 0s - loss: 0.4987 - accuracy: 0.8400WARNING:tensorflow:Can save best model only with val_acc available, skipping.\n",
      "WARNING:tensorflow:Early stopping conditioned on metric `val_acc` which is not available. Available metrics are: loss,accuracy,val_loss,val_accuracy\n",
      "37/37 [==============================] - 215s 6s/step - loss: 0.4987 - accuracy: 0.8400 - val_loss: 1.2042 - val_accuracy: 0.6746\n",
      "Epoch 10/16\n",
      "37/37 [==============================] - ETA: 0s - loss: 0.4585 - accuracy: 0.8417WARNING:tensorflow:Can save best model only with val_acc available, skipping.\n",
      "WARNING:tensorflow:Early stopping conditioned on metric `val_acc` which is not available. Available metrics are: loss,accuracy,val_loss,val_accuracy\n",
      "37/37 [==============================] - 212s 6s/step - loss: 0.4585 - accuracy: 0.8417 - val_loss: 0.8356 - val_accuracy: 0.7337\n",
      "Epoch 11/16\n",
      "37/37 [==============================] - ETA: 0s - loss: 0.4487 - accuracy: 0.8322WARNING:tensorflow:Can save best model only with val_acc available, skipping.\n",
      "WARNING:tensorflow:Early stopping conditioned on metric `val_acc` which is not available. Available metrics are: loss,accuracy,val_loss,val_accuracy\n",
      "37/37 [==============================] - 212s 6s/step - loss: 0.4487 - accuracy: 0.8322 - val_loss: 0.6987 - val_accuracy: 0.7426\n",
      "Epoch 12/16\n",
      "37/37 [==============================] - ETA: 0s - loss: 0.4831 - accuracy: 0.8201WARNING:tensorflow:Can save best model only with val_acc available, skipping.\n",
      "WARNING:tensorflow:Early stopping conditioned on metric `val_acc` which is not available. Available metrics are: loss,accuracy,val_loss,val_accuracy\n",
      "37/37 [==============================] - 215s 6s/step - loss: 0.4831 - accuracy: 0.8201 - val_loss: 0.7673 - val_accuracy: 0.6775\n",
      "Epoch 13/16\n",
      "37/37 [==============================] - ETA: 0s - loss: 0.4105 - accuracy: 0.8460WARNING:tensorflow:Can save best model only with val_acc available, skipping.\n",
      "WARNING:tensorflow:Early stopping conditioned on metric `val_acc` which is not available. Available metrics are: loss,accuracy,val_loss,val_accuracy\n",
      "37/37 [==============================] - 213s 6s/step - loss: 0.4105 - accuracy: 0.8460 - val_loss: 0.5418 - val_accuracy: 0.7692\n",
      "Epoch 14/16\n",
      "37/37 [==============================] - ETA: 0s - loss: 0.3628 - accuracy: 0.8573WARNING:tensorflow:Can save best model only with val_acc available, skipping.\n",
      "WARNING:tensorflow:Early stopping conditioned on metric `val_acc` which is not available. Available metrics are: loss,accuracy,val_loss,val_accuracy\n",
      "37/37 [==============================] - 214s 6s/step - loss: 0.3628 - accuracy: 0.8573 - val_loss: 0.6051 - val_accuracy: 0.7485\n",
      "Epoch 15/16\n",
      "37/37 [==============================] - ETA: 0s - loss: 0.3343 - accuracy: 0.8728WARNING:tensorflow:Can save best model only with val_acc available, skipping.\n",
      "WARNING:tensorflow:Early stopping conditioned on metric `val_acc` which is not available. Available metrics are: loss,accuracy,val_loss,val_accuracy\n",
      "37/37 [==============================] - 214s 6s/step - loss: 0.3343 - accuracy: 0.8728 - val_loss: 0.7186 - val_accuracy: 0.7219\n",
      "Epoch 16/16\n",
      "37/37 [==============================] - ETA: 0s - loss: 0.3614 - accuracy: 0.8789WARNING:tensorflow:Can save best model only with val_acc available, skipping.\n",
      "WARNING:tensorflow:Early stopping conditioned on metric `val_acc` which is not available. Available metrics are: loss,accuracy,val_loss,val_accuracy\n",
      "37/37 [==============================] - 215s 6s/step - loss: 0.3614 - accuracy: 0.8789 - val_loss: 0.8023 - val_accuracy: 0.7130\n"
     ]
    }
   ],
   "source": [
    "# 使用独热编码后的标签进行模型训练\n",
    "batch_size = 32\n",
    "history = model.fit_generator(train_generator, steps_per_epoch=len(x_train) // batch_size,\n",
    "                              epochs=16, validation_data=(x_val, y_val_encoded),\n",
    "                              verbose=1, callbacks=[checkpoint, earlystop])\n"
   ]
  },
  {
   "cell_type": "code",
   "execution_count": 49,
   "id": "195736b7-ffb3-437e-ad97-f58284af7263",
   "metadata": {},
   "outputs": [
    {
     "name": "stdout",
     "output_type": "stream",
     "text": [
      "38/38 [==============================] - 155s 4s/step - loss: 0.6993 - accuracy: 0.7247\n",
      "Loss: 0.6993048191070557\n",
      "Accuracy: 0.7247474789619446\n"
     ]
    }
   ],
   "source": [
    "loss1, accuracy1 = model.evaluate(x_train, y_train_encoded)\n",
    "print(\"Loss:\", loss1)\n",
    "print(\"Accuracy:\", accuracy1)"
   ]
  },
  {
   "cell_type": "code",
   "execution_count": 50,
   "id": "de56f62c-ed0a-4785-b558-2487c3c99dcb",
   "metadata": {},
   "outputs": [
    {
     "name": "stdout",
     "output_type": "stream",
     "text": [
      "6/6 [==============================] - 19s 3s/step - loss: 0.4657 - accuracy: 0.8314\n",
      "Loss: 0.46573302149772644\n",
      "Accuracy: 0.8313953280448914\n"
     ]
    }
   ],
   "source": [
    "loss2, accuracy2 = model.evaluate(x_test, y_test_encoded)\n",
    "print(\"Loss:\", loss2)\n",
    "print(\"Accuracy:\", accuracy2)\n"
   ]
  },
  {
   "cell_type": "code",
   "execution_count": 51,
   "id": "4cf8db12-d300-4452-986d-cead4c4e89be",
   "metadata": {},
   "outputs": [
    {
     "name": "stdout",
     "output_type": "stream",
     "text": [
      "WARNING:tensorflow:From /tmp/ipykernel_804/3331887681.py:2: Sequential.predict_classes (from tensorflow.python.keras.engine.sequential) is deprecated and will be removed after 2021-01-01.\n",
      "Instructions for updating:\n",
      "Please use instead:* `np.argmax(model.predict(x), axis=-1)`,   if your model does multi-class classification   (e.g. if it uses a `softmax` last-layer activation).* `(model.predict(x) > 0.5).astype(\"int32\")`,   if your model does binary classification   (e.g. if it uses a `sigmoid` last-layer activation).\n"
     ]
    }
   ],
   "source": [
    "from sklearn.metrics import confusion_matrix,classification_report,accuracy_score\n",
    "y_pred = model.predict_classes(x_val)"
   ]
  },
  {
   "cell_type": "code",
   "execution_count": 52,
   "id": "a807e06d-9668-43b2-a707-1849950c8489",
   "metadata": {},
   "outputs": [
    {
     "data": {
      "text/plain": [
       "0.7130177514792899"
      ]
     },
     "execution_count": 52,
     "metadata": {},
     "output_type": "execute_result"
    }
   ],
   "source": [
    "accuracy_score(y_val,y_pred)"
   ]
  },
  {
   "cell_type": "code",
   "execution_count": 53,
   "id": "1bbf4ba5-337a-4c62-8321-3cec870d1502",
   "metadata": {},
   "outputs": [
    {
     "name": "stdout",
     "output_type": "stream",
     "text": [
      "              precision    recall  f1-score   support\n",
      "\n",
      "           0       1.00      0.28      0.44       118\n",
      "           1       0.57      0.98      0.72       112\n",
      "           2       0.88      0.91      0.89       108\n",
      "\n",
      "    accuracy                           0.71       338\n",
      "   macro avg       0.82      0.72      0.68       338\n",
      "weighted avg       0.82      0.71      0.68       338\n",
      "\n"
     ]
    }
   ],
   "source": [
    "print(classification_report(y_val,y_pred))"
   ]
  },
  {
   "cell_type": "code",
   "execution_count": 54,
   "id": "1d7bb8cd-8671-4652-803e-f121ce73123f",
   "metadata": {},
   "outputs": [
    {
     "data": {
      "image/png": "[encoded data removed]",
      "text/plain": [
       "<Figure size 720x720 with 1 Axes>"
      ]
     },
     "metadata": {
      "needs_background": "light"
     },
     "output_type": "display_data"
    }
   ],
   "source": [
    "from mlxtend.plotting import plot_confusion_matrix\n",
    "cm = confusion_matrix(y_val,y_pred)\n",
    "plot_confusion_matrix(conf_mat = cm,figsize=(10,10),class_names = [\"Retinopathy\",\"Glaucoma\",\"Cataract\"],\n",
    "                      show_normed = True);"
   ]
  },
  {
   "cell_type": "code",
   "execution_count": 55,
   "id": "0349428f-da51-4dec-adcb-094af44d9ce3",
   "metadata": {},
   "outputs": [
    {
     "data": {
      "image/png": "[encoded data removed]",
      "text/plain": [
       "<Figure size 864x432 with 2 Axes>"
      ]
     },
     "metadata": {},
     "output_type": "display_data"
    }
   ],
   "source": [
    "plt.style.use(\"seaborn-ticks\")\n",
    "fig = plt.figure(figsize=(12,6))\n",
    "epochs = range(1,17)\n",
    "plt.subplot(1,2,1)\n",
    "plt.plot(epochs,history.history[\"accuracy\"],\"go-\")\n",
    "plt.plot(epochs,history.history[\"val_accuracy\"],\"ro-\")\n",
    "plt.title(\"Model Accuracy\")\n",
    "plt.xlabel(\"Epochs\")\n",
    "plt.ylabel(\"Accuracy\")\n",
    "plt.ylim([min(history.history[\"accuracy\"])-0.01,max(history.history[\"accuracy\"])+0.01])\n",
    "plt.legend([\"Train\",\"Val\"],loc = \"upper left\")\n",
    "\n",
    "plt.subplot(1,2,2)\n",
    "plt.plot(epochs,history.history[\"loss\"],\"go-\")\n",
    "plt.plot(epochs,history.history[\"val_loss\"],\"ro-\")\n",
    "plt.title(\"Model Loss\")\n",
    "plt.xlabel(\"Epochs\")\n",
    "plt.ylabel(\"Loss\")\n",
    "plt.ylim([min(history.history[\"loss\"])-0.05,max(history.history[\"loss\"])+0.05])\n",
    "plt.legend([\"Train\",\"Val\"],loc = \"upper left\")\n",
    "plt.show()"
   ]
  },
  {
   "cell_type": "code",
   "execution_count": 33,
   "id": "65490f3d-d704-4738-a68d-5590c1d5f792",
   "metadata": {},
   "outputs": [],
   "source": [
    "#plt.style.use(\"seaborn-ticks\")\n",
    "#plt.figure(figsize=(12,7))\n",
    "#for i in range(10):\n",
    "    #sample = random.choice(range(len(x_test)))\n",
    "    #image = x_test[sample]\n",
    "    #category = y_test[sample]\n",
    "    #pred_category = y_pred[sample]\n",
    "    \n",
    "    #if category== 0:\n",
    "        #label = \"Retinopathy\"\n",
    "    #else:\n",
    "        #label = \"Glaucoma\"\n",
    "        \n",
    "    #if pred_category== 0:\n",
    "        #pred_label = \"Retinopathy\"\n",
    "    #else:\n",
    "        #pred_label = \"Glaucoma\"\n",
    "        \n",
    "    #plt.subplot(2,5,i+1)\n",
    "    #plt.imshow(image)\n",
    "    #plt.xlabel(\"Actual:{}\\nPrediction:{}\".format(label,pred_label))\n",
    "#plt.tight_layout() "
   ]
  },
  {
   "cell_type": "code",
   "execution_count": null,
   "id": "9bd0464c-5665-446f-bbec-307dc9579ef4",
   "metadata": {},
   "outputs": [],
   "source": []
  }
 ],
 "metadata": {
  "kernelspec": {
   "display_name": "Python 3 (ipykernel)",
   "language": "python",
   "name": "python3"
  },
  "language_info": {
   "codemirror_mode": {
    "name": "ipython",
    "version": 3
   },
   "file_extension": ".py",
   "mimetype": "text/x-python",
   "name": "python",
   "nbconvert_exporter": "python",
   "pygments_lexer": "ipython3",
   "version": "3.8.10"
  }
 },
 "nbformat": 4,
 "nbformat_minor": 5
}
